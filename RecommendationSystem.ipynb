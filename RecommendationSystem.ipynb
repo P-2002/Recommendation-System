{
  "nbformat": 4,
  "nbformat_minor": 0,
  "metadata": {
    "colab": {
      "provenance": []
    },
    "kernelspec": {
      "name": "python3",
      "display_name": "Python 3"
    },
    "language_info": {
      "name": "python"
    }
  },
  "cells": [
    {
      "cell_type": "markdown",
      "source": [
        "**Recommendation System**"
      ],
      "metadata": {
        "id": "IV0GkKtrXC7w"
      }
    },
    {
      "cell_type": "markdown",
      "source": [
        "Data Preprocessing:"
      ],
      "metadata": {
        "id": "j2etzyMDZ8MM"
      }
    },
    {
      "cell_type": "code",
      "execution_count": null,
      "metadata": {
        "colab": {
          "base_uri": "https://localhost:8080/",
          "height": 414
        },
        "collapsed": true,
        "id": "sVOiyCPqU5L9",
        "outputId": "f97a0716-48ba-43fe-ceb8-9810e1627b15"
      },
      "outputs": [
        {
          "output_type": "execute_result",
          "data": {
            "text/plain": [
              "   anime_id                              name  \\\n",
              "0     32281                    Kimi no Na wa.   \n",
              "1      5114  Fullmetal Alchemist: Brotherhood   \n",
              "2     28977                          Gintama°   \n",
              "3      9253                       Steins;Gate   \n",
              "4      9969                     Gintama&#039;   \n",
              "\n",
              "                                               genre   type episodes  rating  \\\n",
              "0               Drama, Romance, School, Supernatural  Movie        1    9.37   \n",
              "1  Action, Adventure, Drama, Fantasy, Magic, Mili...     TV       64    9.26   \n",
              "2  Action, Comedy, Historical, Parody, Samurai, S...     TV       51    9.25   \n",
              "3                                   Sci-Fi, Thriller     TV       24    9.17   \n",
              "4  Action, Comedy, Historical, Parody, Samurai, S...     TV       51    9.16   \n",
              "\n",
              "   members  \n",
              "0   200630  \n",
              "1   793665  \n",
              "2   114262  \n",
              "3   673572  \n",
              "4   151266  "
            ],
            "text/html": [
              "\n",
              "  <div id=\"df-3f3110ca-95fe-42e8-901d-f798312f5e12\" class=\"colab-df-container\">\n",
              "    <div>\n",
              "<style scoped>\n",
              "    .dataframe tbody tr th:only-of-type {\n",
              "        vertical-align: middle;\n",
              "    }\n",
              "\n",
              "    .dataframe tbody tr th {\n",
              "        vertical-align: top;\n",
              "    }\n",
              "\n",
              "    .dataframe thead th {\n",
              "        text-align: right;\n",
              "    }\n",
              "</style>\n",
              "<table border=\"1\" class=\"dataframe\">\n",
              "  <thead>\n",
              "    <tr style=\"text-align: right;\">\n",
              "      <th></th>\n",
              "      <th>anime_id</th>\n",
              "      <th>name</th>\n",
              "      <th>genre</th>\n",
              "      <th>type</th>\n",
              "      <th>episodes</th>\n",
              "      <th>rating</th>\n",
              "      <th>members</th>\n",
              "    </tr>\n",
              "  </thead>\n",
              "  <tbody>\n",
              "    <tr>\n",
              "      <th>0</th>\n",
              "      <td>32281</td>\n",
              "      <td>Kimi no Na wa.</td>\n",
              "      <td>Drama, Romance, School, Supernatural</td>\n",
              "      <td>Movie</td>\n",
              "      <td>1</td>\n",
              "      <td>9.37</td>\n",
              "      <td>200630</td>\n",
              "    </tr>\n",
              "    <tr>\n",
              "      <th>1</th>\n",
              "      <td>5114</td>\n",
              "      <td>Fullmetal Alchemist: Brotherhood</td>\n",
              "      <td>Action, Adventure, Drama, Fantasy, Magic, Mili...</td>\n",
              "      <td>TV</td>\n",
              "      <td>64</td>\n",
              "      <td>9.26</td>\n",
              "      <td>793665</td>\n",
              "    </tr>\n",
              "    <tr>\n",
              "      <th>2</th>\n",
              "      <td>28977</td>\n",
              "      <td>Gintama°</td>\n",
              "      <td>Action, Comedy, Historical, Parody, Samurai, S...</td>\n",
              "      <td>TV</td>\n",
              "      <td>51</td>\n",
              "      <td>9.25</td>\n",
              "      <td>114262</td>\n",
              "    </tr>\n",
              "    <tr>\n",
              "      <th>3</th>\n",
              "      <td>9253</td>\n",
              "      <td>Steins;Gate</td>\n",
              "      <td>Sci-Fi, Thriller</td>\n",
              "      <td>TV</td>\n",
              "      <td>24</td>\n",
              "      <td>9.17</td>\n",
              "      <td>673572</td>\n",
              "    </tr>\n",
              "    <tr>\n",
              "      <th>4</th>\n",
              "      <td>9969</td>\n",
              "      <td>Gintama&amp;#039;</td>\n",
              "      <td>Action, Comedy, Historical, Parody, Samurai, S...</td>\n",
              "      <td>TV</td>\n",
              "      <td>51</td>\n",
              "      <td>9.16</td>\n",
              "      <td>151266</td>\n",
              "    </tr>\n",
              "  </tbody>\n",
              "</table>\n",
              "</div>\n",
              "    <div class=\"colab-df-buttons\">\n",
              "\n",
              "  <div class=\"colab-df-container\">\n",
              "    <button class=\"colab-df-convert\" onclick=\"convertToInteractive('df-3f3110ca-95fe-42e8-901d-f798312f5e12')\"\n",
              "            title=\"Convert this dataframe to an interactive table.\"\n",
              "            style=\"display:none;\">\n",
              "\n",
              "  <svg xmlns=\"http://www.w3.org/2000/svg\" height=\"24px\" viewBox=\"0 -960 960 960\">\n",
              "    <path d=\"M120-120v-720h720v720H120Zm60-500h600v-160H180v160Zm220 220h160v-160H400v160Zm0 220h160v-160H400v160ZM180-400h160v-160H180v160Zm440 0h160v-160H620v160ZM180-180h160v-160H180v160Zm440 0h160v-160H620v160Z\"/>\n",
              "  </svg>\n",
              "    </button>\n",
              "\n",
              "  <style>\n",
              "    .colab-df-container {\n",
              "      display:flex;\n",
              "      gap: 12px;\n",
              "    }\n",
              "\n",
              "    .colab-df-convert {\n",
              "      background-color: #E8F0FE;\n",
              "      border: none;\n",
              "      border-radius: 50%;\n",
              "      cursor: pointer;\n",
              "      display: none;\n",
              "      fill: #1967D2;\n",
              "      height: 32px;\n",
              "      padding: 0 0 0 0;\n",
              "      width: 32px;\n",
              "    }\n",
              "\n",
              "    .colab-df-convert:hover {\n",
              "      background-color: #E2EBFA;\n",
              "      box-shadow: 0px 1px 2px rgba(60, 64, 67, 0.3), 0px 1px 3px 1px rgba(60, 64, 67, 0.15);\n",
              "      fill: #174EA6;\n",
              "    }\n",
              "\n",
              "    .colab-df-buttons div {\n",
              "      margin-bottom: 4px;\n",
              "    }\n",
              "\n",
              "    [theme=dark] .colab-df-convert {\n",
              "      background-color: #3B4455;\n",
              "      fill: #D2E3FC;\n",
              "    }\n",
              "\n",
              "    [theme=dark] .colab-df-convert:hover {\n",
              "      background-color: #434B5C;\n",
              "      box-shadow: 0px 1px 3px 1px rgba(0, 0, 0, 0.15);\n",
              "      filter: drop-shadow(0px 1px 2px rgba(0, 0, 0, 0.3));\n",
              "      fill: #FFFFFF;\n",
              "    }\n",
              "  </style>\n",
              "\n",
              "    <script>\n",
              "      const buttonEl =\n",
              "        document.querySelector('#df-3f3110ca-95fe-42e8-901d-f798312f5e12 button.colab-df-convert');\n",
              "      buttonEl.style.display =\n",
              "        google.colab.kernel.accessAllowed ? 'block' : 'none';\n",
              "\n",
              "      async function convertToInteractive(key) {\n",
              "        const element = document.querySelector('#df-3f3110ca-95fe-42e8-901d-f798312f5e12');\n",
              "        const dataTable =\n",
              "          await google.colab.kernel.invokeFunction('convertToInteractive',\n",
              "                                                    [key], {});\n",
              "        if (!dataTable) return;\n",
              "\n",
              "        const docLinkHtml = 'Like what you see? Visit the ' +\n",
              "          '<a target=\"_blank\" href=https://colab.research.google.com/notebooks/data_table.ipynb>data table notebook</a>'\n",
              "          + ' to learn more about interactive tables.';\n",
              "        element.innerHTML = '';\n",
              "        dataTable['output_type'] = 'display_data';\n",
              "        await google.colab.output.renderOutput(dataTable, element);\n",
              "        const docLink = document.createElement('div');\n",
              "        docLink.innerHTML = docLinkHtml;\n",
              "        element.appendChild(docLink);\n",
              "      }\n",
              "    </script>\n",
              "  </div>\n",
              "\n",
              "\n",
              "    <div id=\"df-bf42d537-b71d-4e1e-b00a-2daddb582b40\">\n",
              "      <button class=\"colab-df-quickchart\" onclick=\"quickchart('df-bf42d537-b71d-4e1e-b00a-2daddb582b40')\"\n",
              "                title=\"Suggest charts\"\n",
              "                style=\"display:none;\">\n",
              "\n",
              "<svg xmlns=\"http://www.w3.org/2000/svg\" height=\"24px\"viewBox=\"0 0 24 24\"\n",
              "     width=\"24px\">\n",
              "    <g>\n",
              "        <path d=\"M19 3H5c-1.1 0-2 .9-2 2v14c0 1.1.9 2 2 2h14c1.1 0 2-.9 2-2V5c0-1.1-.9-2-2-2zM9 17H7v-7h2v7zm4 0h-2V7h2v10zm4 0h-2v-4h2v4z\"/>\n",
              "    </g>\n",
              "</svg>\n",
              "      </button>\n",
              "\n",
              "<style>\n",
              "  .colab-df-quickchart {\n",
              "      --bg-color: #E8F0FE;\n",
              "      --fill-color: #1967D2;\n",
              "      --hover-bg-color: #E2EBFA;\n",
              "      --hover-fill-color: #174EA6;\n",
              "      --disabled-fill-color: #AAA;\n",
              "      --disabled-bg-color: #DDD;\n",
              "  }\n",
              "\n",
              "  [theme=dark] .colab-df-quickchart {\n",
              "      --bg-color: #3B4455;\n",
              "      --fill-color: #D2E3FC;\n",
              "      --hover-bg-color: #434B5C;\n",
              "      --hover-fill-color: #FFFFFF;\n",
              "      --disabled-bg-color: #3B4455;\n",
              "      --disabled-fill-color: #666;\n",
              "  }\n",
              "\n",
              "  .colab-df-quickchart {\n",
              "    background-color: var(--bg-color);\n",
              "    border: none;\n",
              "    border-radius: 50%;\n",
              "    cursor: pointer;\n",
              "    display: none;\n",
              "    fill: var(--fill-color);\n",
              "    height: 32px;\n",
              "    padding: 0;\n",
              "    width: 32px;\n",
              "  }\n",
              "\n",
              "  .colab-df-quickchart:hover {\n",
              "    background-color: var(--hover-bg-color);\n",
              "    box-shadow: 0 1px 2px rgba(60, 64, 67, 0.3), 0 1px 3px 1px rgba(60, 64, 67, 0.15);\n",
              "    fill: var(--button-hover-fill-color);\n",
              "  }\n",
              "\n",
              "  .colab-df-quickchart-complete:disabled,\n",
              "  .colab-df-quickchart-complete:disabled:hover {\n",
              "    background-color: var(--disabled-bg-color);\n",
              "    fill: var(--disabled-fill-color);\n",
              "    box-shadow: none;\n",
              "  }\n",
              "\n",
              "  .colab-df-spinner {\n",
              "    border: 2px solid var(--fill-color);\n",
              "    border-color: transparent;\n",
              "    border-bottom-color: var(--fill-color);\n",
              "    animation:\n",
              "      spin 1s steps(1) infinite;\n",
              "  }\n",
              "\n",
              "  @keyframes spin {\n",
              "    0% {\n",
              "      border-color: transparent;\n",
              "      border-bottom-color: var(--fill-color);\n",
              "      border-left-color: var(--fill-color);\n",
              "    }\n",
              "    20% {\n",
              "      border-color: transparent;\n",
              "      border-left-color: var(--fill-color);\n",
              "      border-top-color: var(--fill-color);\n",
              "    }\n",
              "    30% {\n",
              "      border-color: transparent;\n",
              "      border-left-color: var(--fill-color);\n",
              "      border-top-color: var(--fill-color);\n",
              "      border-right-color: var(--fill-color);\n",
              "    }\n",
              "    40% {\n",
              "      border-color: transparent;\n",
              "      border-right-color: var(--fill-color);\n",
              "      border-top-color: var(--fill-color);\n",
              "    }\n",
              "    60% {\n",
              "      border-color: transparent;\n",
              "      border-right-color: var(--fill-color);\n",
              "    }\n",
              "    80% {\n",
              "      border-color: transparent;\n",
              "      border-right-color: var(--fill-color);\n",
              "      border-bottom-color: var(--fill-color);\n",
              "    }\n",
              "    90% {\n",
              "      border-color: transparent;\n",
              "      border-bottom-color: var(--fill-color);\n",
              "    }\n",
              "  }\n",
              "</style>\n",
              "\n",
              "      <script>\n",
              "        async function quickchart(key) {\n",
              "          const quickchartButtonEl =\n",
              "            document.querySelector('#' + key + ' button');\n",
              "          quickchartButtonEl.disabled = true;  // To prevent multiple clicks.\n",
              "          quickchartButtonEl.classList.add('colab-df-spinner');\n",
              "          try {\n",
              "            const charts = await google.colab.kernel.invokeFunction(\n",
              "                'suggestCharts', [key], {});\n",
              "          } catch (error) {\n",
              "            console.error('Error during call to suggestCharts:', error);\n",
              "          }\n",
              "          quickchartButtonEl.classList.remove('colab-df-spinner');\n",
              "          quickchartButtonEl.classList.add('colab-df-quickchart-complete');\n",
              "        }\n",
              "        (() => {\n",
              "          let quickchartButtonEl =\n",
              "            document.querySelector('#df-bf42d537-b71d-4e1e-b00a-2daddb582b40 button');\n",
              "          quickchartButtonEl.style.display =\n",
              "            google.colab.kernel.accessAllowed ? 'block' : 'none';\n",
              "        })();\n",
              "      </script>\n",
              "    </div>\n",
              "\n",
              "    </div>\n",
              "  </div>\n"
            ],
            "application/vnd.google.colaboratory.intrinsic+json": {
              "type": "dataframe",
              "variable_name": "df",
              "summary": "{\n  \"name\": \"df\",\n  \"rows\": 12294,\n  \"fields\": [\n    {\n      \"column\": \"anime_id\",\n      \"properties\": {\n        \"dtype\": \"number\",\n        \"std\": 11455,\n        \"min\": 1,\n        \"max\": 34527,\n        \"num_unique_values\": 12294,\n        \"samples\": [\n          17209,\n          173,\n          3616\n        ],\n        \"semantic_type\": \"\",\n        \"description\": \"\"\n      }\n    },\n    {\n      \"column\": \"name\",\n      \"properties\": {\n        \"dtype\": \"string\",\n        \"num_unique_values\": 12292,\n        \"samples\": [\n          \"Nils no Fushigi na Tabi (Movie)\",\n          \"Tactics\",\n          \"Kamen no Maid Guy\"\n        ],\n        \"semantic_type\": \"\",\n        \"description\": \"\"\n      }\n    },\n    {\n      \"column\": \"genre\",\n      \"properties\": {\n        \"dtype\": \"category\",\n        \"num_unique_values\": 3264,\n        \"samples\": [\n          \"Horror, Supernatural\",\n          \"Action, Adventure, Comedy, Demons, Fantasy, Magic, Romance, Shounen, Supernatural\",\n          \"Action, Comedy, Harem, Parody, Romance\"\n        ],\n        \"semantic_type\": \"\",\n        \"description\": \"\"\n      }\n    },\n    {\n      \"column\": \"type\",\n      \"properties\": {\n        \"dtype\": \"category\",\n        \"num_unique_values\": 6,\n        \"samples\": [\n          \"Movie\",\n          \"TV\",\n          \"ONA\"\n        ],\n        \"semantic_type\": \"\",\n        \"description\": \"\"\n      }\n    },\n    {\n      \"column\": \"episodes\",\n      \"properties\": {\n        \"dtype\": \"category\",\n        \"num_unique_values\": 187,\n        \"samples\": [\n          \"141\",\n          \"54\",\n          \"52\"\n        ],\n        \"semantic_type\": \"\",\n        \"description\": \"\"\n      }\n    },\n    {\n      \"column\": \"rating\",\n      \"properties\": {\n        \"dtype\": \"number\",\n        \"std\": 1.0267463068980598,\n        \"min\": 1.67,\n        \"max\": 10.0,\n        \"num_unique_values\": 598,\n        \"samples\": [\n          7.87,\n          6.11,\n          4.1\n        ],\n        \"semantic_type\": \"\",\n        \"description\": \"\"\n      }\n    },\n    {\n      \"column\": \"members\",\n      \"properties\": {\n        \"dtype\": \"number\",\n        \"std\": 54820,\n        \"min\": 5,\n        \"max\": 1013917,\n        \"num_unique_values\": 6706,\n        \"samples\": [\n          170754,\n          1515,\n          66376\n        ],\n        \"semantic_type\": \"\",\n        \"description\": \"\"\n      }\n    }\n  ]\n}"
            }
          },
          "metadata": {},
          "execution_count": 59
        }
      ],
      "source": [
        "import pandas as pd\n",
        "df = pd.read_csv('/content/anime.csv')\n",
        "df.head()"
      ]
    },
    {
      "cell_type": "code",
      "source": [
        "print(df.isnull().sum())"
      ],
      "metadata": {
        "colab": {
          "base_uri": "https://localhost:8080/"
        },
        "collapsed": true,
        "id": "9_EVyoPrX-HI",
        "outputId": "fe77dcf4-f7be-4086-8c8d-65d681790874"
      },
      "execution_count": null,
      "outputs": [
        {
          "output_type": "stream",
          "name": "stdout",
          "text": [
            "anime_id      0\n",
            "name          0\n",
            "genre        62\n",
            "type         25\n",
            "episodes      0\n",
            "rating      230\n",
            "members       0\n",
            "dtype: int64\n"
          ]
        }
      ]
    },
    {
      "cell_type": "code",
      "source": [
        "df.dropna(subset=['genre','rating'], inplace=True)\n",
        "df.reset_index(drop=True, inplace=True)\n",
        "print(df.isnull().sum())"
      ],
      "metadata": {
        "colab": {
          "base_uri": "https://localhost:8080/"
        },
        "collapsed": true,
        "id": "V-RYnmAUYRVQ",
        "outputId": "561f026c-6bba-4381-d1b6-3e93715ea9df"
      },
      "execution_count": null,
      "outputs": [
        {
          "output_type": "stream",
          "name": "stdout",
          "text": [
            "anime_id    0\n",
            "name        0\n",
            "genre       0\n",
            "type        0\n",
            "episodes    0\n",
            "rating      0\n",
            "members     0\n",
            "dtype: int64\n"
          ]
        }
      ]
    },
    {
      "cell_type": "code",
      "source": [
        "print(df.info())\n",
        "print(\"\\n\",df.describe())\n",
        "print(\"\\nUnique broadcast types:\", df['type'].unique())\n",
        "print(\"\\nSample genres:\", df['genre'].unique()[:10])"
      ],
      "metadata": {
        "colab": {
          "base_uri": "https://localhost:8080/"
        },
        "collapsed": true,
        "id": "UzQwhRvuZo7W",
        "outputId": "03f6513e-9aac-4395-99f7-3f063241b00e"
      },
      "execution_count": null,
      "outputs": [
        {
          "output_type": "stream",
          "name": "stdout",
          "text": [
            "<class 'pandas.core.frame.DataFrame'>\n",
            "RangeIndex: 12017 entries, 0 to 12016\n",
            "Data columns (total 7 columns):\n",
            " #   Column    Non-Null Count  Dtype  \n",
            "---  ------    --------------  -----  \n",
            " 0   anime_id  12017 non-null  int64  \n",
            " 1   name      12017 non-null  object \n",
            " 2   genre     12017 non-null  object \n",
            " 3   type      12017 non-null  object \n",
            " 4   episodes  12017 non-null  object \n",
            " 5   rating    12017 non-null  float64\n",
            " 6   members   12017 non-null  int64  \n",
            "dtypes: float64(1), int64(2), object(4)\n",
            "memory usage: 657.3+ KB\n",
            "None\n",
            "\n",
            "            anime_id        rating       members\n",
            "count  12017.000000  12017.000000  1.201700e+04\n",
            "mean   13638.001165      6.478264  1.834888e+04\n",
            "std    11231.076675      1.023857  5.537250e+04\n",
            "min        1.000000      1.670000  1.200000e+01\n",
            "25%     3391.000000      5.890000  2.250000e+02\n",
            "50%     9959.000000      6.570000  1.552000e+03\n",
            "75%    23729.000000      7.180000  9.588000e+03\n",
            "max    34519.000000     10.000000  1.013917e+06\n",
            "\n",
            "Unique broadcast types: ['Movie' 'TV' 'OVA' 'Special' 'Music' 'ONA']\n",
            "\n",
            "Sample genres: ['Drama, Romance, School, Supernatural'\n",
            " 'Action, Adventure, Drama, Fantasy, Magic, Military, Shounen'\n",
            " 'Action, Comedy, Historical, Parody, Samurai, Sci-Fi, Shounen'\n",
            " 'Sci-Fi, Thriller' 'Comedy, Drama, School, Shounen, Sports'\n",
            " 'Action, Adventure, Shounen, Super Power'\n",
            " 'Drama, Military, Sci-Fi, Space'\n",
            " 'Drama, Fantasy, Romance, Slice of Life, Supernatural'\n",
            " 'Drama, School, Shounen'\n",
            " 'Action, Drama, Mecha, Military, Sci-Fi, Super Power']\n"
          ]
        }
      ]
    },
    {
      "cell_type": "markdown",
      "source": [
        "Feature Extraction:"
      ],
      "metadata": {
        "id": "Ik1zHFnRZ3eA"
      }
    },
    {
      "cell_type": "code",
      "source": [
        "from sklearn.feature_extraction.text import CountVectorizer\n",
        "vectorizer = CountVectorizer(tokenizer=lambda x: x.split(', '))\n",
        "genre_matrix = vectorizer.fit_transform(df['genre'])"
      ],
      "metadata": {
        "colab": {
          "base_uri": "https://localhost:8080/"
        },
        "collapsed": true,
        "id": "GbPQD6_Ibx_E",
        "outputId": "4b34b1d7-2e03-4726-f5b8-2268fcb075a6"
      },
      "execution_count": null,
      "outputs": [
        {
          "output_type": "stream",
          "name": "stderr",
          "text": [
            "/usr/local/lib/python3.11/dist-packages/sklearn/feature_extraction/text.py:517: UserWarning: The parameter 'token_pattern' will not be used since 'tokenizer' is not None'\n",
            "  warnings.warn(\n"
          ]
        }
      ]
    },
    {
      "cell_type": "code",
      "source": [
        "from sklearn.preprocessing import MinMaxScaler\n",
        "import numpy as np\n",
        "\n",
        "df['rating'] = df['rating'].fillna(df['rating'].mean())\n",
        "df['members'] = df['members'].fillna(df['members'].mean())\n",
        "\n",
        "scaler = MinMaxScaler()\n",
        "numeric_features = scaler.fit_transform(df[['rating','members']])"
      ],
      "metadata": {
        "id": "7CwJBg7Hcz-x"
      },
      "execution_count": null,
      "outputs": []
    },
    {
      "cell_type": "code",
      "source": [
        "from scipy.sparse import hstack\n",
        "from sklearn.preprocessing import normalize\n",
        "\n",
        "feature_matrix = hstack([genre_matrix, numeric_features])\n",
        "feature_matrix = normalize(feature_matrix)"
      ],
      "metadata": {
        "id": "E5KhYXDuZyAp"
      },
      "execution_count": null,
      "outputs": []
    },
    {
      "cell_type": "code",
      "source": [
        "from sklearn.metrics.pairwise import cosine_similarity\n",
        "\n",
        "cosine_sim = cosine_similarity(feature_matrix)\n",
        "\n",
        "anime_indices = pd.Series(df.index, index=df['name']).drop_duplicates()"
      ],
      "metadata": {
        "id": "BBApr5l0eHE-"
      },
      "execution_count": null,
      "outputs": []
    },
    {
      "cell_type": "markdown",
      "source": [
        "Recommendation System:"
      ],
      "metadata": {
        "id": "LGcelKfNehqa"
      }
    },
    {
      "cell_type": "code",
      "source": [
        "\n",
        "def recommend_anime(title, top_n=10, score_threhold=0.0):\n",
        "   if title not in anime_indices:\n",
        "    return f\"Anime '{title}' not found in dataset.\"\n",
        "\n",
        "   idx = anime_indices[title]\n",
        "   sim_scores = list(enumerate(cosine_sim[idx]))\n",
        "   sim_scores = [s for s in sim_scores if s[0] != idx and s[1] >= score_threhold]\n",
        "   sim_scores = sorted(sim_scores, key=lambda x: x[1], reverse=True)[:top_n]\n",
        "\n",
        "   anime_ids = [i[0] for i in sim_scores]\n",
        "   return df[['name','genre','rating']].iloc[anime_ids].copy()\n",
        "   results['similarity'] = [s[1] for i in sim_scores]\n",
        "\n",
        "   return results.reset_index(drop=True)"
      ],
      "metadata": {
        "id": "oHgsmE93eo6p"
      },
      "execution_count": null,
      "outputs": []
    },
    {
      "cell_type": "markdown",
      "source": [
        "Evaluation:"
      ],
      "metadata": {
        "id": "NfVtsDDrjJhz"
      }
    },
    {
      "cell_type": "code",
      "source": [
        "from sklearn.model_selection import train_test_split\n",
        "\n",
        "df['relevant'] = df['rating'] >= 7.0\n",
        "train_df, test_df = train_test_split(df, test_size=0.2, random_state=42)"
      ],
      "metadata": {
        "id": "KHWh3UxLjlRu"
      },
      "execution_count": null,
      "outputs": []
    },
    {
      "cell_type": "code",
      "source": [
        "def evaluate_recommendation_system(df, k=10, threshold=7.0, max_samples=100):\n",
        "  total_precision = total_recall = total_f1 = count = 0\n",
        "  relevant_set = df[df['rating'] >= threshold]\n",
        "\n",
        "  for _, row in df.iterrows():\n",
        "     title = row['name']\n",
        "     if title not in anime_indices:\n",
        "         continue\n",
        "\n",
        "     recs = recommend_anime(title, top_n=k)\n",
        "     if isinstance(recs, str) or recs.empty:\n",
        "        continue\n",
        "\n",
        "     relevant_recs = recs[recs['rating'] >= threshold]\n",
        "     precision = len(relevant_recs) / k\n",
        "     recall = len(relevant_recs) / len(relevant_set) if len(relevant_set) else 0\n",
        "     f1 = 2 * (precision * recall) / (precision + recall) if precision + recall else 0\n",
        "\n",
        "     total_precision += precision\n",
        "     total_recall += recall\n",
        "     total_f1 += f1\n",
        "     count += 1\n",
        "\n",
        "     if count >= max_samples:\n",
        "        break\n",
        "\n",
        "  if count == 0:\n",
        "    return 0, 0, 0\n",
        "\n",
        "  return total_precision / count, total_recall / count, total_f1 / count"
      ],
      "metadata": {
        "id": "1O1rfr0TkXiz"
      },
      "execution_count": null,
      "outputs": []
    },
    {
      "cell_type": "code",
      "source": [
        "precision, recall, f1 = evaluate_recommendation_system(test_df, k=10)\n",
        "print(f\"Average Precision: {precision:.4f}\")\n",
        "print(f\"Average Recall: {recall:.4f}\")\n",
        "print(f\"Average F1 Score: {f1:.4f}\")"
      ],
      "metadata": {
        "colab": {
          "base_uri": "https://localhost:8080/"
        },
        "id": "ZB3AsyvmoZf-",
        "outputId": "98ab69a8-296a-4525-b207-ed8bd301b37b"
      },
      "execution_count": null,
      "outputs": [
        {
          "output_type": "stream",
          "name": "stdout",
          "text": [
            "Average Precision: 0.3350\n",
            "Average Recall: 0.0042\n",
            "Average F1 Score: 0.0083\n"
          ]
        }
      ]
    },
    {
      "cell_type": "code",
      "source": [
        "print(recommend_anime('Naruto'))"
      ],
      "metadata": {
        "colab": {
          "base_uri": "https://localhost:8080/"
        },
        "id": "Q2bMz6IJyNKr",
        "outputId": "9e711e68-fd4d-4931-9ea0-a6ac1f317033"
      },
      "execution_count": null,
      "outputs": [
        {
          "output_type": "stream",
          "name": "stdout",
          "text": [
            "                                                   name  \\\n",
            "615                                  Naruto: Shippuuden   \n",
            "1472        Naruto: Shippuuden Movie 4 - The Lost Tower   \n",
            "1573  Naruto: Shippuuden Movie 3 - Hi no Ishi wo Tsu...   \n",
            "486                            Boruto: Naruto the Movie   \n",
            "1343                                        Naruto x UT   \n",
            "2996  Naruto Soyokazeden Movie: Naruto to Mashin to ...   \n",
            "1103  Boruto: Naruto the Movie - Naruto ga Hokage ni...   \n",
            "2458               Naruto Shippuuden: Sunny Side Battle   \n",
            "175                              Katekyo Hitman Reborn!   \n",
            "7617                            Kyutai Panic Adventure!   \n",
            "\n",
            "                                                  genre  rating  \n",
            "615   Action, Comedy, Martial Arts, Shounen, Super P...    7.94  \n",
            "1472  Action, Comedy, Martial Arts, Shounen, Super P...    7.53  \n",
            "1573  Action, Comedy, Martial Arts, Shounen, Super P...    7.50  \n",
            "486   Action, Comedy, Martial Arts, Shounen, Super P...    8.03  \n",
            "1343  Action, Comedy, Martial Arts, Shounen, Super P...    7.58  \n",
            "2996  Action, Comedy, Martial Arts, Shounen, Super P...    7.11  \n",
            "1103  Action, Comedy, Martial Arts, Shounen, Super P...    7.68  \n",
            "2458  Action, Comedy, Martial Arts, Shounen, Super P...    7.26  \n",
            "175                Action, Comedy, Shounen, Super Power    8.37  \n",
            "7617         Action, Martial Arts, Shounen, Super Power    5.21  \n"
          ]
        }
      ]
    },
    {
      "cell_type": "markdown",
      "source": [
        "**Analysis and Areas for improvement**\n",
        "\n",
        "*   **Cold-start issue:** Content-based filtering works okay for new users but fails if metadata is limited.\n",
        "\n",
        "*  **Feature Quality:** Genre and rating are coarse- adding tages, studio info and synopsis embedding may help.\n",
        "\n",
        "* **Hybrid models:** Combine with collaborative filtering for better personalization.\n",
        "\n"
      ],
      "metadata": {
        "id": "VVVJ0k_Xu7b_"
      }
    },
    {
      "cell_type": "markdown",
      "source": [
        "**Interview Questions:**\n",
        "\n",
        "1.  Can you explain the difference between user-based and item-based collaborative filtering?\n",
        "\n",
        "**Answer:** User-Based recommends items to a user based on the preferences of similar users. Easy to understand and implement.\n",
        "\n",
        "Item-Based recommends items based on the similarity between items themselves, regardless of users.Better when the number of users is very large.\n",
        "\n",
        "2.   What is collaborative filtering, and how does it work?\n",
        "\n",
        "**Answer:** It is a popular technique used in recommendation systems to suggest items (like movies, product, music, etc.) to user based on the preferences and behaviour of many users.\n",
        "\n",
        "Process:\n",
        "\n",
        "*  Data collection\n",
        "*  Similarity Computation\n",
        "*  Prediction\n",
        "*  Recommendation\n",
        "\n",
        "\n"
      ],
      "metadata": {
        "id": "kbr4gRtbv3kk"
      }
    }
  ]
}